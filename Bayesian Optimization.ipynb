{
 "cells": [
  {
   "cell_type": "code",
   "execution_count": 2,
   "metadata": {},
   "outputs": [],
   "source": [
    "import GPy\n",
    "import GPyOpt\n",
    "from GPyOpt.methods import BayesianOptimization\n",
    "from sklearn import datasets\n",
    "from sklearn.ensemble import RandomForestClassifier\n",
    "from sklearn.model_selection import RandomizedSearchCV,cross_val_score\n",
    "import numpy as np\n",
    "import pandas as pd\n",
    "from scipy.stats import uniform\n",
    "import warnings\n",
    "warnings.filterwarnings(\"ignore\")"
   ]
  },
  {
   "cell_type": "markdown",
   "metadata": {},
   "source": [
    "### binary classification task"
   ]
  },
  {
   "cell_type": "markdown",
   "metadata": {},
   "source": [
    "##### dataset: breast cancer dataset from sklearn\n",
    "##### classifier: random forest"
   ]
  },
  {
   "cell_type": "code",
   "execution_count": 3,
   "metadata": {},
   "outputs": [],
   "source": [
    "#use the diabetes dataset from sklearn\n",
    "#binary classification task\n",
    "x,y=datasets.load_breast_cancer(return_X_y=True)\n",
    "#Instantiate a RandomForestClassifier\n",
    "rf=RandomForestClassifier()\n",
    "baseline=cross_val_score(rf,x,y,scoring='f1').mean()"
   ]
  },
  {
   "cell_type": "code",
   "execution_count": 4,
   "metadata": {},
   "outputs": [],
   "source": [
    "#use RandomSearchCV to tune the hyperparameters as baseline\n",
    "#decide the hyperparameter boundaries\n",
    "param_bounds = {'n_estimators': range(10, 250),\n",
    "           'min_samples_split': range(2, 25),\n",
    "           'max_features': uniform(0.1, 0.89),\n",
    "           'max_depth': range(5, 15)}"
   ]
  },
  {
   "cell_type": "code",
   "execution_count": 11,
   "metadata": {},
   "outputs": [
    {
     "data": {
      "text/plain": [
       "RandomizedSearchCV(cv='warn', error_score='raise-deprecating',\n",
       "                   estimator=RandomForestClassifier(bootstrap=True,\n",
       "                                                    class_weight=None,\n",
       "                                                    criterion='gini',\n",
       "                                                    max_depth=None,\n",
       "                                                    max_features='auto',\n",
       "                                                    max_leaf_nodes=None,\n",
       "                                                    min_impurity_decrease=0.0,\n",
       "                                                    min_impurity_split=None,\n",
       "                                                    min_samples_leaf=1,\n",
       "                                                    min_samples_split=2,\n",
       "                                                    min_weight_fraction_leaf=0.0,\n",
       "                                                    n_estimators='warn',\n",
       "                                                    n_jobs=None,\n",
       "                                                    o...\n",
       "                                                    verbose=0,\n",
       "                                                    warm_start=False),\n",
       "                   iid='warn', n_iter=25, n_jobs=None,\n",
       "                   param_distributions={'max_depth': range(5, 15),\n",
       "                                        'max_features': <scipy.stats._distn_infrastructure.rv_frozen object at 0x000001C5FC1B52B0>,\n",
       "                                        'min_samples_split': range(2, 25),\n",
       "                                        'n_estimators': range(10, 250)},\n",
       "                   pre_dispatch='2*n_jobs', random_state=None, refit=True,\n",
       "                   return_train_score=False, scoring='f1', verbose=0)"
      ]
     },
     "execution_count": 11,
     "metadata": {},
     "output_type": "execute_result"
    }
   ],
   "source": [
    "rs=RandomizedSearchCV(rf,param_distributions=param_bounds,scoring='f1',n_iter=25)\n",
    "rs.fit(x,y)"
   ]
  },
  {
   "cell_type": "code",
   "execution_count": 6,
   "metadata": {},
   "outputs": [],
   "source": [
    "bds = [{'name': 'n_estimators', 'type': 'discrete', 'domain': (10, 250)},\n",
    "        {'name': 'min_samples_split', 'type': 'discrete', 'domain': (2, 25)},\n",
    "        {'name': 'max_features', 'type': 'continuous', 'domain': (0.1,0.999)},\n",
    "        {'name': 'max_depth', 'type': 'discrete', 'domain': (5, 15)},]"
   ]
  },
  {
   "cell_type": "code",
   "execution_count": 7,
   "metadata": {},
   "outputs": [],
   "source": [
    "#construct the black box optimization function\n",
    "def rf_cv(parameters):\n",
    "    parameters=parameters[0]\n",
    "    val = cross_val_score(\n",
    "        # random forest\n",
    "        RandomForestClassifier(n_estimators=int(parameters[0]),\n",
    "                               min_samples_split=int(parameters[1]),\n",
    "                               max_features=min(parameters[2], 0.999),  # float\n",
    "                               max_depth=int(parameters[3]),\n",
    "                               random_state=2),\n",
    "        x, y, scoring='f1',).mean()\n",
    "    val=np.array(val)\n",
    "    return val"
   ]
  },
  {
   "cell_type": "code",
   "execution_count": 8,
   "metadata": {},
   "outputs": [],
   "source": [
    "#Bayesian Optimizer\n",
    "optimizer = BayesianOptimization(f=rf_cv, \n",
    "                                 domain=bds,\n",
    "                                 model_type='GP',\n",
    "                                 acquisition_type ='EI',\n",
    "                                 acquisition_jitter = 0.05,\n",
    "                                 exact_feval=True, \n",
    "                                 maximize=True)\n",
    "\n",
    "optimizer.run_optimization(max_iter=20)"
   ]
  },
  {
   "cell_type": "code",
   "execution_count": 9,
   "metadata": {},
   "outputs": [],
   "source": [
    "import matplotlib.pyplot as plt\n",
    "%matplotlib inline"
   ]
  },
  {
   "cell_type": "code",
   "execution_count": 14,
   "metadata": {},
   "outputs": [
    {
     "name": "stdout",
     "output_type": "stream",
     "text": [
      "Baseline f1 = 0.96\n",
      "Random search f1 = 0.96\n",
      "Bayesian optimization f1 = 0.97\n"
     ]
    },
    {
     "data": {
      "image/png": "[encoded data removed]",
      "text/plain": [
       "<Figure size 432x288 with 1 Axes>"
      ]
     },
     "metadata": {
      "needs_background": "light"
     },
     "output_type": "display_data"
    }
   ],
   "source": [
    "y_rs = np.maximum.accumulate(rs.cv_results_['mean_test_score'])\n",
    "y_bo = np.maximum.accumulate(-optimizer.Y).ravel()\n",
    "\n",
    "print(f'Baseline f1 = {baseline:.2f}')\n",
    "print(f'Random search f1 = {y_rs[-1]:.2f}')\n",
    "print(f'Bayesian optimization f1 = {y_bo[-1]:.2f}')\n",
    "\n",
    "plt.plot(y_rs, 'ro-', label='Random search')\n",
    "plt.plot(y_bo, 'bo-', label='Bayesian optimization')\n",
    "plt.xlabel('Iteration')\n",
    "plt.ylabel('f1 score')\n",
    "plt.ylim(0.95, 0.975)\n",
    "plt.title('Value of the best sampled CV score');\n",
    "plt.legend();"
   ]
  },
  {
   "cell_type": "markdown",
   "metadata": {},
   "source": [
    "### Try another bayesian optimiaztion library: bayesian_optimization"
   ]
  },
  {
   "cell_type": "code",
   "execution_count": 15,
   "metadata": {},
   "outputs": [],
   "source": [
    "from bayes_opt import BayesianOptimization"
   ]
  },
  {
   "cell_type": "code",
   "execution_count": 16,
   "metadata": {},
   "outputs": [],
   "source": [
    "def rf_cv2(n_estimators, min_samples_split, max_features, max_depth):\n",
    "    val = cross_val_score(\n",
    "        RandomForestClassifier(n_estimators=int(n_estimators),\n",
    "                               min_samples_split=int(min_samples_split),\n",
    "                               max_features=min(max_features, 0.999),  # float\n",
    "                               max_depth=int(max_depth),\n",
    "                               random_state=2),\n",
    "        x, y, scoring='f1', cv=5\n",
    "    ).mean()\n",
    "    return val"
   ]
  },
  {
   "cell_type": "code",
   "execution_count": 17,
   "metadata": {},
   "outputs": [],
   "source": [
    "bds2 = {'n_estimators': (10, 250),\n",
    "           'min_samples_split': (2, 25),\n",
    "           'max_features': (0.1, 0.999),\n",
    "           'max_depth': (5, 15)}\n",
    "\n",
    "optimizer2 = BayesianOptimization(\n",
    "    f=rf_cv2,  \n",
    "    pbounds=bds2,  \n",
    "    verbose=2,  # verbose = 2 prints all\n",
    ")"
   ]
  },
  {
   "cell_type": "code",
   "execution_count": 18,
   "metadata": {},
   "outputs": [
    {
     "name": "stdout",
     "output_type": "stream",
     "text": [
      "|   iter    |  target   | max_depth | max_fe... | min_sa... | n_esti... |\n",
      "-------------------------------------------------------------------------\n",
      "| \u001b[0m 1       \u001b[0m | \u001b[0m 0.9682  \u001b[0m | \u001b[0m 10.99   \u001b[0m | \u001b[0m 0.6405  \u001b[0m | \u001b[0m 11.74   \u001b[0m | \u001b[0m 74.75   \u001b[0m |\n",
      "| \u001b[0m 2       \u001b[0m | \u001b[0m 0.9653  \u001b[0m | \u001b[0m 6.187   \u001b[0m | \u001b[0m 0.4266  \u001b[0m | \u001b[0m 6.738   \u001b[0m | \u001b[0m 35.48   \u001b[0m |\n",
      "| \u001b[95m 3       \u001b[0m | \u001b[95m 0.9708  \u001b[0m | \u001b[95m 10.96   \u001b[0m | \u001b[95m 0.6833  \u001b[0m | \u001b[95m 3.376   \u001b[0m | \u001b[95m 141.9   \u001b[0m |\n",
      "| \u001b[95m 4       \u001b[0m | \u001b[95m 0.9711  \u001b[0m | \u001b[95m 5.743   \u001b[0m | \u001b[95m 0.2449  \u001b[0m | \u001b[95m 2.882   \u001b[0m | \u001b[95m 57.11   \u001b[0m |\n",
      "| \u001b[0m 5       \u001b[0m | \u001b[0m 0.9667  \u001b[0m | \u001b[0m 7.347   \u001b[0m | \u001b[0m 0.4927  \u001b[0m | \u001b[0m 15.81   \u001b[0m | \u001b[0m 41.74   \u001b[0m |\n",
      "| \u001b[0m 6       \u001b[0m | \u001b[0m 0.9668  \u001b[0m | \u001b[0m 5.301   \u001b[0m | \u001b[0m 0.3454  \u001b[0m | \u001b[0m 2.803   \u001b[0m | \u001b[0m 249.2   \u001b[0m |\n",
      "| \u001b[0m 7       \u001b[0m | \u001b[0m 0.9625  \u001b[0m | \u001b[0m 5.105   \u001b[0m | \u001b[0m 0.6595  \u001b[0m | \u001b[0m 24.58   \u001b[0m | \u001b[0m 151.3   \u001b[0m |\n",
      "| \u001b[0m 8       \u001b[0m | \u001b[0m 0.9676  \u001b[0m | \u001b[0m 14.96   \u001b[0m | \u001b[0m 0.6768  \u001b[0m | \u001b[0m 2.224   \u001b[0m | \u001b[0m 20.51   \u001b[0m |\n",
      "| \u001b[0m 9       \u001b[0m | \u001b[0m 0.9694  \u001b[0m | \u001b[0m 14.28   \u001b[0m | \u001b[0m 0.5045  \u001b[0m | \u001b[0m 2.069   \u001b[0m | \u001b[0m 128.8   \u001b[0m |\n",
      "| \u001b[0m 10      \u001b[0m | \u001b[0m 0.9651  \u001b[0m | \u001b[0m 5.24    \u001b[0m | \u001b[0m 0.9366  \u001b[0m | \u001b[0m 2.341   \u001b[0m | \u001b[0m 106.6   \u001b[0m |\n",
      "| \u001b[0m 11      \u001b[0m | \u001b[0m 0.9695  \u001b[0m | \u001b[0m 14.88   \u001b[0m | \u001b[0m 0.6504  \u001b[0m | \u001b[0m 2.564   \u001b[0m | \u001b[0m 220.7   \u001b[0m |\n",
      "| \u001b[0m 12      \u001b[0m | \u001b[0m 0.9638  \u001b[0m | \u001b[0m 14.85   \u001b[0m | \u001b[0m 0.1392  \u001b[0m | \u001b[0m 2.627   \u001b[0m | \u001b[0m 11.03   \u001b[0m |\n",
      "| \u001b[0m 13      \u001b[0m | \u001b[0m 0.9638  \u001b[0m | \u001b[0m 14.72   \u001b[0m | \u001b[0m 0.8193  \u001b[0m | \u001b[0m 24.73   \u001b[0m | \u001b[0m 247.7   \u001b[0m |\n",
      "| \u001b[0m 14      \u001b[0m | \u001b[0m 0.9682  \u001b[0m | \u001b[0m 14.52   \u001b[0m | \u001b[0m 0.1035  \u001b[0m | \u001b[0m 2.131   \u001b[0m | \u001b[0m 70.42   \u001b[0m |\n",
      "| \u001b[0m 15      \u001b[0m | \u001b[0m 0.9694  \u001b[0m | \u001b[0m 14.89   \u001b[0m | \u001b[0m 0.5047  \u001b[0m | \u001b[0m 2.201   \u001b[0m | \u001b[0m 148.7   \u001b[0m |\n",
      "| \u001b[95m 16      \u001b[0m | \u001b[95m 0.9723  \u001b[0m | \u001b[95m 14.98   \u001b[0m | \u001b[95m 0.151   \u001b[0m | \u001b[95m 2.009   \u001b[0m | \u001b[95m 118.3   \u001b[0m |\n",
      "| \u001b[0m 17      \u001b[0m | \u001b[0m 0.9682  \u001b[0m | \u001b[0m 13.54   \u001b[0m | \u001b[0m 0.1089  \u001b[0m | \u001b[0m 2.726   \u001b[0m | \u001b[0m 246.9   \u001b[0m |\n",
      "| \u001b[0m 18      \u001b[0m | \u001b[0m 0.9678  \u001b[0m | \u001b[0m 14.98   \u001b[0m | \u001b[0m 0.5667  \u001b[0m | \u001b[0m 2.311   \u001b[0m | \u001b[0m 99.13   \u001b[0m |\n",
      "| \u001b[0m 19      \u001b[0m | \u001b[0m 0.9697  \u001b[0m | \u001b[0m 14.41   \u001b[0m | \u001b[0m 0.1351  \u001b[0m | \u001b[0m 2.042   \u001b[0m | \u001b[0m 140.8   \u001b[0m |\n",
      "| \u001b[0m 20      \u001b[0m | \u001b[0m 0.9683  \u001b[0m | \u001b[0m 14.74   \u001b[0m | \u001b[0m 0.135   \u001b[0m | \u001b[0m 2.686   \u001b[0m | \u001b[0m 191.6   \u001b[0m |\n",
      "| \u001b[0m 21      \u001b[0m | \u001b[0m 0.9707  \u001b[0m | \u001b[0m 14.57   \u001b[0m | \u001b[0m 0.7192  \u001b[0m | \u001b[0m 2.572   \u001b[0m | \u001b[0m 156.9   \u001b[0m |\n",
      "| \u001b[0m 22      \u001b[0m | \u001b[0m 0.9695  \u001b[0m | \u001b[0m 14.44   \u001b[0m | \u001b[0m 0.1292  \u001b[0m | \u001b[0m 2.117   \u001b[0m | \u001b[0m 131.1   \u001b[0m |\n",
      "| \u001b[0m 23      \u001b[0m | \u001b[0m 0.9694  \u001b[0m | \u001b[0m 14.66   \u001b[0m | \u001b[0m 0.6815  \u001b[0m | \u001b[0m 2.006   \u001b[0m | \u001b[0m 159.8   \u001b[0m |\n",
      "| \u001b[0m 24      \u001b[0m | \u001b[0m 0.9709  \u001b[0m | \u001b[0m 14.52   \u001b[0m | \u001b[0m 0.338   \u001b[0m | \u001b[0m 2.024   \u001b[0m | \u001b[0m 163.5   \u001b[0m |\n",
      "| \u001b[0m 25      \u001b[0m | \u001b[0m 0.971   \u001b[0m | \u001b[0m 14.62   \u001b[0m | \u001b[0m 0.2087  \u001b[0m | \u001b[0m 2.043   \u001b[0m | \u001b[0m 174.0   \u001b[0m |\n",
      "=========================================================================\n",
      "{'target': 0.9723319549059019, 'params': {'max_depth': 14.980859880544136, 'max_features': 0.15096761657122704, 'min_samples_split': 2.009334427412915, 'n_estimators': 118.29602289920678}}\n"
     ]
    }
   ],
   "source": [
    "optimizer2.maximize(init_points=5,n_iter=20)\n",
    "#prints the best result and the corresponding hyperparamters\n",
    "print(optimizer2.max)"
   ]
  },
  {
   "cell_type": "code",
   "execution_count": 19,
   "metadata": {},
   "outputs": [
    {
     "name": "stdout",
     "output_type": "stream",
     "text": [
      "Baseline f1 = 0.96\n",
      "Random search f1 = 0.96\n",
      "Bayesian optimization f1 = 0.97\n"
     ]
    },
    {
     "data": {
      "image/png": "[encoded data removed]",
      "text/plain": [
       "<Figure size 432x288 with 1 Axes>"
      ]
     },
     "metadata": {
      "needs_background": "light"
     },
     "output_type": "display_data"
    }
   ],
   "source": [
    "y_rs = np.maximum.accumulate(rs.cv_results_['mean_test_score'])\n",
    "y_bo2 = np.maximum.accumulate([i['target'] for i in optimizer2.res]).ravel()\n",
    "\n",
    "print(f'Baseline f1 = {baseline:.2f}')\n",
    "print(f'Random search f1 = {y_rs[-1]:.2f}')\n",
    "print(f'Bayesian optimization f1 = {y_bo[-1]:.2f}')\n",
    "\n",
    "plt.plot(y_rs, 'ro-', label='Random search')\n",
    "plt.plot(y_bo2, 'bo-', label='Bayesian optimization')\n",
    "plt.xlabel('Iteration')\n",
    "plt.ylabel('f1 score')\n",
    "plt.ylim(0.95, 0.98)\n",
    "plt.title('Value of the best sampled CV score');\n",
    "plt.legend();"
   ]
  },
  {
   "cell_type": "markdown",
   "metadata": {},
   "source": [
    "### Regression task"
   ]
  },
  {
   "cell_type": "markdown",
   "metadata": {},
   "source": [
    "##### dataset: diabetes dataset from sklearn\n",
    "##### regressor: xgboost "
   ]
  },
  {
   "cell_type": "code",
   "execution_count": 29,
   "metadata": {},
   "outputs": [],
   "source": [
    "from xgboost import XGBRegressor"
   ]
  },
  {
   "cell_type": "code",
   "execution_count": 30,
   "metadata": {},
   "outputs": [],
   "source": [
    "x,y=datasets.load_diabetes(return_X_y=True)\n",
    "xgb = XGBRegressor()\n",
    "baseline = cross_val_score(xgb, x, y, scoring='neg_mean_squared_error').mean()"
   ]
  },
  {
   "cell_type": "code",
   "execution_count": 44,
   "metadata": {},
   "outputs": [
    {
     "data": {
      "text/plain": [
       "RandomizedSearchCV(cv='warn', error_score='raise-deprecating',\n",
       "                   estimator=XGBRegressor(base_score=None, booster=None,\n",
       "                                          colsample_bylevel=None,\n",
       "                                          colsample_bynode=None,\n",
       "                                          colsample_bytree=None, gamma=None,\n",
       "                                          gpu_id=None, importance_type='gain',\n",
       "                                          interaction_constraints=None,\n",
       "                                          learning_rate=None,\n",
       "                                          max_delta_step=None, max_depth=None,\n",
       "                                          min_child_weight=None, missing=nan,\n",
       "                                          monoton...\n",
       "                   param_distributions={'gamma': <scipy.stats._distn_infrastructure.rv_frozen object at 0x000001C581273390>,\n",
       "                                        'learning_rate': <scipy.stats._distn_infrastructure.rv_frozen object at 0x000001C581273198>,\n",
       "                                        'max_depth': range(1, 50),\n",
       "                                        'min_child_weight': range(1, 10),\n",
       "                                        'n_estimators': range(1, 300)},\n",
       "                   pre_dispatch='2*n_jobs', random_state=1, refit=True,\n",
       "                   return_train_score=False, scoring='neg_mean_squared_error',\n",
       "                   verbose=0)"
      ]
     },
     "execution_count": 44,
     "metadata": {},
     "output_type": "execute_result"
    }
   ],
   "source": [
    "param_bounds = {\"learning_rate\": uniform(0, 1),\n",
    "              \"gamma\": uniform(0, 5),\n",
    "              \"max_depth\": range(1,50),\n",
    "              \"n_estimators\": range(1,300),\n",
    "              \"min_child_weight\": range(1,10)}\n",
    "\n",
    "rs = RandomizedSearchCV(xgb, param_distributions=param_bounds, \n",
    "                        scoring='neg_mean_squared_error', n_iter=25,random_state=1)\n",
    "\n",
    "rs.fit(x, y)"
   ]
  },
  {
   "cell_type": "code",
   "execution_count": 45,
   "metadata": {},
   "outputs": [],
   "source": [
    "def rf_cv(learning_rate, gamma, max_depth, n_estimators, min_child_weight):\n",
    "    val = cross_val_score(\n",
    "        XGBRegressor(learning_rate=learning_rate,\n",
    "                            gamma=int(gamma),\n",
    "                            max_depth=int(max_depth),\n",
    "                            n_estimators=int(n_estimators),\n",
    "                            min_child_weight=min_child_weight,\n",
    "                            random_state=1),\n",
    "        x, y, scoring='neg_mean_squared_error', cv=5\n",
    "    ).mean()\n",
    "    return val\n",
    "\n",
    "bds = {'learning_rate': (0, 1),\n",
    "           'gamma': (0, 5),\n",
    "           'max_depth': (1, 50),\n",
    "           'n_estimators':(1,300),\n",
    "           'min_child_weight':(1,10)}\n",
    "\n",
    "optimizer = BayesianOptimization(\n",
    "    f=rf_cv,  \n",
    "    pbounds=bds,  \n",
    "    verbose=2,  # verbose = 2 prints all\n",
    ")"
   ]
  },
  {
   "cell_type": "code",
   "execution_count": 46,
   "metadata": {},
   "outputs": [
    {
     "name": "stdout",
     "output_type": "stream",
     "text": [
      "|   iter    |  target   |   gamma   | learni... | max_depth | min_ch... | n_esti... |\n",
      "-------------------------------------------------------------------------------------\n",
      "| \u001b[0m 1       \u001b[0m | \u001b[0m-4.149e+0\u001b[0m | \u001b[0m 0.6839  \u001b[0m | \u001b[0m 0.1669  \u001b[0m | \u001b[0m 40.15   \u001b[0m | \u001b[0m 1.321   \u001b[0m | \u001b[0m 260.5   \u001b[0m |\n",
      "| \u001b[95m 2       \u001b[0m | \u001b[95m-3.698e+0\u001b[0m | \u001b[95m 1.644   \u001b[0m | \u001b[95m 0.5373  \u001b[0m | \u001b[95m 1.532   \u001b[0m | \u001b[95m 6.683   \u001b[0m | \u001b[95m 293.3   \u001b[0m |\n",
      "| \u001b[0m 3       \u001b[0m | \u001b[0m-4.43e+03\u001b[0m | \u001b[0m 0.5555  \u001b[0m | \u001b[0m 0.5896  \u001b[0m | \u001b[0m 32.69   \u001b[0m | \u001b[0m 4.413   \u001b[0m | \u001b[0m 126.5   \u001b[0m |\n",
      "| \u001b[0m 4       \u001b[0m | \u001b[0m-3.901e+0\u001b[0m | \u001b[0m 0.9808  \u001b[0m | \u001b[0m 0.0159  \u001b[0m | \u001b[0m 38.55   \u001b[0m | \u001b[0m 2.273   \u001b[0m | \u001b[0m 175.9   \u001b[0m |\n",
      "| \u001b[0m 5       \u001b[0m | \u001b[0m-4.478e+0\u001b[0m | \u001b[0m 0.07828 \u001b[0m | \u001b[0m 0.4951  \u001b[0m | \u001b[0m 46.48   \u001b[0m | \u001b[0m 1.292   \u001b[0m | \u001b[0m 24.04   \u001b[0m |\n",
      "| \u001b[95m 6       \u001b[0m | \u001b[95m-3.466e+0\u001b[0m | \u001b[95m 1.198   \u001b[0m | \u001b[95m 0.3661  \u001b[0m | \u001b[95m 1.616   \u001b[0m | \u001b[95m 7.482   \u001b[0m | \u001b[95m 292.5   \u001b[0m |\n",
      "| \u001b[0m 7       \u001b[0m | \u001b[0m-5.406e+0\u001b[0m | \u001b[0m 2.74    \u001b[0m | \u001b[0m 0.9446  \u001b[0m | \u001b[0m 2.158   \u001b[0m | \u001b[0m 6.65    \u001b[0m | \u001b[0m 291.4   \u001b[0m |\n",
      "| \u001b[0m 8       \u001b[0m | \u001b[0m-3.884e+0\u001b[0m | \u001b[0m 1.196   \u001b[0m | \u001b[0m 0.06961 \u001b[0m | \u001b[0m 38.09   \u001b[0m | \u001b[0m 2.455   \u001b[0m | \u001b[0m 174.7   \u001b[0m |\n",
      "| \u001b[0m 9       \u001b[0m | \u001b[0m-5.439e+0\u001b[0m | \u001b[0m 0.8415  \u001b[0m | \u001b[0m 0.8759  \u001b[0m | \u001b[0m 3.146   \u001b[0m | \u001b[0m 6.158   \u001b[0m | \u001b[0m 293.3   \u001b[0m |\n",
      "| \u001b[0m 10      \u001b[0m | \u001b[0m-3.938e+0\u001b[0m | \u001b[0m 1.81    \u001b[0m | \u001b[0m 0.2301  \u001b[0m | \u001b[0m 35.46   \u001b[0m | \u001b[0m 5.939   \u001b[0m | \u001b[0m 231.4   \u001b[0m |\n",
      "| \u001b[0m 11      \u001b[0m | \u001b[0m-4.371e+0\u001b[0m | \u001b[0m 0.7944  \u001b[0m | \u001b[0m 0.5879  \u001b[0m | \u001b[0m 18.22   \u001b[0m | \u001b[0m 4.562   \u001b[0m | \u001b[0m 29.9    \u001b[0m |\n",
      "| \u001b[0m 12      \u001b[0m | \u001b[0m-4.635e+0\u001b[0m | \u001b[0m 2.714   \u001b[0m | \u001b[0m 0.7111  \u001b[0m | \u001b[0m 14.87   \u001b[0m | \u001b[0m 4.274   \u001b[0m | \u001b[0m 235.9   \u001b[0m |\n",
      "| \u001b[0m 13      \u001b[0m | \u001b[0m-4.051e+0\u001b[0m | \u001b[0m 2.938   \u001b[0m | \u001b[0m 0.3406  \u001b[0m | \u001b[0m 34.89   \u001b[0m | \u001b[0m 6.162   \u001b[0m | \u001b[0m 232.1   \u001b[0m |\n",
      "| \u001b[0m 14      \u001b[0m | \u001b[0m-3.858e+0\u001b[0m | \u001b[0m 2.259   \u001b[0m | \u001b[0m 0.2409  \u001b[0m | \u001b[0m 38.13   \u001b[0m | \u001b[0m 2.057   \u001b[0m | \u001b[0m 176.1   \u001b[0m |\n",
      "| \u001b[0m 15      \u001b[0m | \u001b[0m-4.97e+03\u001b[0m | \u001b[0m 1.642   \u001b[0m | \u001b[0m 0.8153  \u001b[0m | \u001b[0m 36.52   \u001b[0m | \u001b[0m 2.622   \u001b[0m | \u001b[0m 174.5   \u001b[0m |\n",
      "| \u001b[0m 16      \u001b[0m | \u001b[0m-4.129e+0\u001b[0m | \u001b[0m 2.211   \u001b[0m | \u001b[0m 0.9352  \u001b[0m | \u001b[0m 1.123   \u001b[0m | \u001b[0m 6.317   \u001b[0m | \u001b[0m 294.5   \u001b[0m |\n",
      "| \u001b[0m 17      \u001b[0m | \u001b[0m-3.99e+03\u001b[0m | \u001b[0m 4.375   \u001b[0m | \u001b[0m 0.3882  \u001b[0m | \u001b[0m 29.27   \u001b[0m | \u001b[0m 8.595   \u001b[0m | \u001b[0m 242.5   \u001b[0m |\n",
      "| \u001b[0m 18      \u001b[0m | \u001b[0m-3.921e+0\u001b[0m | \u001b[0m 1.576   \u001b[0m | \u001b[0m 0.3423  \u001b[0m | \u001b[0m 39.17   \u001b[0m | \u001b[0m 2.53    \u001b[0m | \u001b[0m 176.1   \u001b[0m |\n",
      "| \u001b[0m 19      \u001b[0m | \u001b[0m-4.486e+0\u001b[0m | \u001b[0m 1.399   \u001b[0m | \u001b[0m 0.7194  \u001b[0m | \u001b[0m 24.94   \u001b[0m | \u001b[0m 9.023   \u001b[0m | \u001b[0m 47.74   \u001b[0m |\n",
      "| \u001b[0m 20      \u001b[0m | \u001b[0m-4.139e+0\u001b[0m | \u001b[0m 0.6877  \u001b[0m | \u001b[0m 0.169   \u001b[0m | \u001b[0m 40.14   \u001b[0m | \u001b[0m 1.323   \u001b[0m | \u001b[0m 260.5   \u001b[0m |\n",
      "| \u001b[0m 21      \u001b[0m | \u001b[0m-4.128e+0\u001b[0m | \u001b[0m 1.19    \u001b[0m | \u001b[0m 0.611   \u001b[0m | \u001b[0m 38.63   \u001b[0m | \u001b[0m 9.963   \u001b[0m | \u001b[0m 194.5   \u001b[0m |\n",
      "| \u001b[0m 22      \u001b[0m | \u001b[0m-4.192e+0\u001b[0m | \u001b[0m 2.586   \u001b[0m | \u001b[0m 0.5956  \u001b[0m | \u001b[0m 13.95   \u001b[0m | \u001b[0m 6.047   \u001b[0m | \u001b[0m 134.1   \u001b[0m |\n",
      "| \u001b[0m 23      \u001b[0m | \u001b[0m-4.072e+0\u001b[0m | \u001b[0m 3.863   \u001b[0m | \u001b[0m 0.4656  \u001b[0m | \u001b[0m 15.53   \u001b[0m | \u001b[0m 5.033   \u001b[0m | \u001b[0m 273.2   \u001b[0m |\n",
      "| \u001b[0m 24      \u001b[0m | \u001b[0m-4.136e+0\u001b[0m | \u001b[0m 4.766   \u001b[0m | \u001b[0m 0.4313  \u001b[0m | \u001b[0m 11.35   \u001b[0m | \u001b[0m 9.283   \u001b[0m | \u001b[0m 154.0   \u001b[0m |\n",
      "| \u001b[0m 25      \u001b[0m | \u001b[0m-3.884e+0\u001b[0m | \u001b[0m 3.58    \u001b[0m | \u001b[0m 0.3918  \u001b[0m | \u001b[0m 14.01   \u001b[0m | \u001b[0m 2.096   \u001b[0m | \u001b[0m 288.4   \u001b[0m |\n",
      "=====================================================================================\n",
      "{'target': -3465.5913691697833, 'params': {'gamma': 1.1975068394359878, 'learning_rate': 0.3661037404889067, 'max_depth': 1.6158840300288806, 'min_child_weight': 7.481901157040843, 'n_estimators': 292.48590300579514}}\n"
     ]
    }
   ],
   "source": [
    "optimizer.maximize(init_points=5,n_iter=20)\n",
    "print(optimizer.max)"
   ]
  },
  {
   "cell_type": "code",
   "execution_count": 47,
   "metadata": {},
   "outputs": [
    {
     "name": "stdout",
     "output_type": "stream",
     "text": [
      "Baseline neg. MSE = -3972.59\n",
      "Random search neg. MSE = -3712.40\n",
      "Bayesian optimization neg. MSE = -3465.59\n"
     ]
    },
    {
     "data": {
      "image/png": "[encoded data removed]",
      "text/plain": [
       "<Figure size 432x288 with 1 Axes>"
      ]
     },
     "metadata": {
      "needs_background": "light"
     },
     "output_type": "display_data"
    }
   ],
   "source": [
    "y_rs = np.maximum.accumulate(rs.cv_results_['mean_test_score'])\n",
    "y_bo = np.maximum.accumulate([i['target'] for i in optimizer.res]).ravel()\n",
    "\n",
    "print(f'Baseline neg. MSE = {baseline:.2f}')\n",
    "print(f'Random search neg. MSE = {y_rs[-1]:.2f}')\n",
    "print(f'Bayesian optimization neg. MSE = {y_bo[-1]:.2f}')\n",
    "\n",
    "plt.plot(y_rs, 'ro-', label='Random search')\n",
    "plt.plot(y_bo, 'bo-', label='Bayesian optimization')\n",
    "plt.xlabel('Iteration')\n",
    "plt.ylabel('Neg. MSE')\n",
    "plt.ylim(-5000, -3000)\n",
    "plt.title('Value of the best sampled CV score');\n",
    "plt.legend();"
   ]
  },
  {
   "cell_type": "markdown",
   "metadata": {},
   "source": [
    "### Multi-classification Task"
   ]
  },
  {
   "cell_type": "markdown",
   "metadata": {},
   "source": [
    "##### dataset: iris dataset from sklearn\n",
    "##### classifier: svm"
   ]
  },
  {
   "cell_type": "code",
   "execution_count": 11,
   "metadata": {},
   "outputs": [],
   "source": [
    "from sklearn import svm"
   ]
  },
  {
   "cell_type": "code",
   "execution_count": 49,
   "metadata": {},
   "outputs": [],
   "source": [
    "x,y=datasets.load_iris(return_X_y=True)\n",
    "svc = svm.SVC()\n",
    "baseline = cross_val_score(svc, x, y, scoring='f1_micro').mean()"
   ]
  },
  {
   "cell_type": "code",
   "execution_count": 50,
   "metadata": {},
   "outputs": [
    {
     "data": {
      "text/plain": [
       "RandomizedSearchCV(cv='warn', error_score='raise-deprecating',\n",
       "                   estimator=SVC(C=1.0, cache_size=200, class_weight=None,\n",
       "                                 coef0=0.0, decision_function_shape='ovr',\n",
       "                                 degree=3, gamma='auto_deprecated',\n",
       "                                 kernel='rbf', max_iter=-1, probability=False,\n",
       "                                 random_state=None, shrinking=True, tol=0.001,\n",
       "                                 verbose=False),\n",
       "                   iid='warn', n_iter=25, n_jobs=None,\n",
       "                   param_distributions={'C': <scipy.stats._distn_infrastructure.rv_frozen object at 0x000001C581263B38>,\n",
       "                                        'gamma': <scipy.stats._distn_infrastructure.rv_frozen object at 0x000001C5812B1EB8>},\n",
       "                   pre_dispatch='2*n_jobs', random_state=1, refit=True,\n",
       "                   return_train_score=False, scoring='f1_micro', verbose=0)"
      ]
     },
     "execution_count": 50,
     "metadata": {},
     "output_type": "execute_result"
    }
   ],
   "source": [
    "param_bounds = {\"C\": uniform(0.01, 0.99),\n",
    "              \"gamma\": uniform(0.01, 0.99)}\n",
    "\n",
    "rs = RandomizedSearchCV(svc, param_distributions=param_bounds, \n",
    "                        scoring='f1_micro', n_iter=25,random_state=1)\n",
    "\n",
    "rs.fit(x, y)"
   ]
  },
  {
   "cell_type": "code",
   "execution_count": 51,
   "metadata": {},
   "outputs": [],
   "source": [
    "def svm_cv(C, gamma):\n",
    "    val = cross_val_score(\n",
    "        svm.SVC(C=C,\n",
    "                gamma=gamma),\n",
    "        x, y, scoring='f1_micro', cv=5\n",
    "    ).mean()\n",
    "    return val\n",
    "\n",
    "bds = {'C': (0.01, 1),\n",
    "        'gamma': (0.01, 1),}\n",
    "\n",
    "optimizer = BayesianOptimization(\n",
    "    f=svm_cv,  \n",
    "    pbounds=bds,  \n",
    "    verbose=2,  # verbose = 2 prints all\n",
    ")"
   ]
  },
  {
   "cell_type": "code",
   "execution_count": 52,
   "metadata": {},
   "outputs": [
    {
     "name": "stdout",
     "output_type": "stream",
     "text": [
      "|   iter    |  target   |     C     |   gamma   |\n",
      "-------------------------------------------------\n",
      "| \u001b[0m 1       \u001b[0m | \u001b[0m 0.98    \u001b[0m | \u001b[0m 0.2546  \u001b[0m | \u001b[0m 0.6045  \u001b[0m |\n",
      "| \u001b[0m 2       \u001b[0m | \u001b[0m 0.96    \u001b[0m | \u001b[0m 0.2488  \u001b[0m | \u001b[0m 0.4739  \u001b[0m |\n",
      "| \u001b[0m 3       \u001b[0m | \u001b[0m 0.98    \u001b[0m | \u001b[0m 0.8727  \u001b[0m | \u001b[0m 0.1194  \u001b[0m |\n",
      "| \u001b[0m 4       \u001b[0m | \u001b[0m 0.98    \u001b[0m | \u001b[0m 0.6776  \u001b[0m | \u001b[0m 0.5201  \u001b[0m |\n",
      "| \u001b[0m 5       \u001b[0m | \u001b[0m 0.98    \u001b[0m | \u001b[0m 0.8142  \u001b[0m | \u001b[0m 0.4841  \u001b[0m |\n",
      "| \u001b[0m 6       \u001b[0m | \u001b[0m 0.9667  \u001b[0m | \u001b[0m 1.0     \u001b[0m | \u001b[0m 1.0     \u001b[0m |\n",
      "| \u001b[0m 7       \u001b[0m | \u001b[0m 0.96    \u001b[0m | \u001b[0m 0.01    \u001b[0m | \u001b[0m 1.0     \u001b[0m |\n",
      "| \u001b[95m 8       \u001b[0m | \u001b[95m 0.9867  \u001b[0m | \u001b[95m 0.464   \u001b[0m | \u001b[95m 1.0     \u001b[0m |\n",
      "| \u001b[0m 9       \u001b[0m | \u001b[0m 0.9333  \u001b[0m | \u001b[0m 1.0     \u001b[0m | \u001b[0m 0.01    \u001b[0m |\n",
      "| \u001b[0m 10      \u001b[0m | \u001b[0m 0.9133  \u001b[0m | \u001b[0m 0.01    \u001b[0m | \u001b[0m 0.01    \u001b[0m |\n",
      "| \u001b[0m 11      \u001b[0m | \u001b[0m 0.9267  \u001b[0m | \u001b[0m 0.5316  \u001b[0m | \u001b[0m 0.01    \u001b[0m |\n",
      "| \u001b[0m 12      \u001b[0m | \u001b[0m 0.9533  \u001b[0m | \u001b[0m 0.01    \u001b[0m | \u001b[0m 0.6447  \u001b[0m |\n",
      "| \u001b[0m 13      \u001b[0m | \u001b[0m 0.98    \u001b[0m | \u001b[0m 1.0     \u001b[0m | \u001b[0m 0.312   \u001b[0m |\n",
      "| \u001b[0m 14      \u001b[0m | \u001b[0m 0.98    \u001b[0m | \u001b[0m 0.2871  \u001b[0m | \u001b[0m 0.8746  \u001b[0m |\n",
      "| \u001b[0m 15      \u001b[0m | \u001b[0m 0.98    \u001b[0m | \u001b[0m 0.6973  \u001b[0m | \u001b[0m 0.8869  \u001b[0m |\n",
      "| \u001b[0m 16      \u001b[0m | \u001b[0m 0.98    \u001b[0m | \u001b[0m 0.7777  \u001b[0m | \u001b[0m 0.2814  \u001b[0m |\n",
      "| \u001b[0m 17      \u001b[0m | \u001b[0m 0.98    \u001b[0m | \u001b[0m 0.4676  \u001b[0m | \u001b[0m 0.7365  \u001b[0m |\n",
      "| \u001b[0m 18      \u001b[0m | \u001b[0m 0.98    \u001b[0m | \u001b[0m 0.9977  \u001b[0m | \u001b[0m 0.6951  \u001b[0m |\n",
      "| \u001b[0m 19      \u001b[0m | \u001b[0m 0.98    \u001b[0m | \u001b[0m 0.7338  \u001b[0m | \u001b[0m 0.9959  \u001b[0m |\n",
      "| \u001b[0m 20      \u001b[0m | \u001b[0m 0.98    \u001b[0m | \u001b[0m 0.2688  \u001b[0m | \u001b[0m 0.9993  \u001b[0m |\n",
      "| \u001b[0m 21      \u001b[0m | \u001b[0m 0.98    \u001b[0m | \u001b[0m 0.8229  \u001b[0m | \u001b[0m 0.7121  \u001b[0m |\n",
      "| \u001b[0m 22      \u001b[0m | \u001b[0m 0.98    \u001b[0m | \u001b[0m 0.5744  \u001b[0m | \u001b[0m 0.9992  \u001b[0m |\n",
      "| \u001b[0m 23      \u001b[0m | \u001b[0m 0.98    \u001b[0m | \u001b[0m 0.8985  \u001b[0m | \u001b[0m 0.2547  \u001b[0m |\n",
      "| \u001b[0m 24      \u001b[0m | \u001b[0m 0.98    \u001b[0m | \u001b[0m 0.9996  \u001b[0m | \u001b[0m 0.5131  \u001b[0m |\n",
      "| \u001b[0m 25      \u001b[0m | \u001b[0m 0.9733  \u001b[0m | \u001b[0m 0.8875  \u001b[0m | \u001b[0m 0.8772  \u001b[0m |\n",
      "=================================================\n",
      "{'target': 0.9866666666666667, 'params': {'C': 0.4640267611858243, 'gamma': 1.0}}\n"
     ]
    }
   ],
   "source": [
    "optimizer.maximize(init_points=5,n_iter=20)\n",
    "print(optimizer.max)"
   ]
  },
  {
   "cell_type": "code",
   "execution_count": 53,
   "metadata": {},
   "outputs": [
    {
     "name": "stdout",
     "output_type": "stream",
     "text": [
      "Baseline f1 = 0.97\n",
      "Random search f1 = 0.98\n",
      "Bayesian optimization f1 = 0.99\n"
     ]
    },
    {
     "data": {
      "image/png": "[encoded data removed]",
      "text/plain": [
       "<Figure size 432x288 with 1 Axes>"
      ]
     },
     "metadata": {
      "needs_background": "light"
     },
     "output_type": "display_data"
    }
   ],
   "source": [
    "y_rs = np.maximum.accumulate(rs.cv_results_['mean_test_score'])\n",
    "y_bo = np.maximum.accumulate([i['target'] for i in optimizer.res]).ravel()\n",
    "\n",
    "print(f'Baseline f1 = {baseline:.2f}')\n",
    "print(f'Random search f1 = {y_rs[-1]:.2f}')\n",
    "print(f'Bayesian optimization f1 = {y_bo[-1]:.2f}')\n",
    "\n",
    "plt.plot(y_rs, 'ro-', label='Random search')\n",
    "plt.plot(y_bo, 'bo-', label='Bayesian optimization')\n",
    "plt.xlabel('Iteration')\n",
    "plt.ylabel('f1_micro')\n",
    "plt.ylim(0.96, 0.99)\n",
    "plt.title('Value of the best sampled CV score');\n",
    "plt.legend();"
   ]
  },
  {
   "cell_type": "markdown",
   "metadata": {},
   "source": [
    "### Use Bayesian optimization to tune multiple machine learning models on the binary classification task and select the best model"
   ]
  },
  {
   "cell_type": "markdown",
   "metadata": {},
   "source": [
    "##### dataset: breast cancer dataset from sklearn\n",
    "##### classifier: random forest, svm, logistic regression classifier"
   ]
  },
  {
   "cell_type": "code",
   "execution_count": 3,
   "metadata": {},
   "outputs": [],
   "source": [
    "from bayes_opt import BayesianOptimization"
   ]
  },
  {
   "cell_type": "code",
   "execution_count": 6,
   "metadata": {},
   "outputs": [],
   "source": [
    "x,y=datasets.load_breast_cancer(return_X_y=True)"
   ]
  },
  {
   "cell_type": "code",
   "execution_count": 8,
   "metadata": {},
   "outputs": [
    {
     "name": "stdout",
     "output_type": "stream",
     "text": [
      "{'target': 0.9710090469293966, 'params': {'max_depth': 7.217236054362956, 'max_features': 0.31156749050056054, 'min_samples_split': 2.0822189304690712, 'n_estimators': 249.86020325891238}}\n"
     ]
    }
   ],
   "source": [
    "def rf_cv(n_estimators, min_samples_split, max_features, max_depth):\n",
    "    val = cross_val_score(\n",
    "        RandomForestClassifier(n_estimators=int(n_estimators),\n",
    "                               min_samples_split=int(min_samples_split),\n",
    "                               max_features=min(max_features, 0.999),  # float\n",
    "                               max_depth=int(max_depth),\n",
    "                               random_state=2),\n",
    "        x, y, scoring='f1', cv=5\n",
    "    ).mean()\n",
    "    return val\n",
    "rf_bds = {'n_estimators': (10, 250),\n",
    "           'min_samples_split': (2, 25),\n",
    "           'max_features': (0.1, 0.999),\n",
    "           'max_depth': (5, 15)}\n",
    "\n",
    "rf_optimizer = BayesianOptimization(\n",
    "    f=rf_cv,  \n",
    "    pbounds=rf_bds,  \n",
    "    verbose=0,\n",
    ")\n",
    "rf_optimizer.maximize(init_points=5,n_iter=20)\n",
    "print(rf_optimizer.max)"
   ]
  },
  {
   "cell_type": "code",
   "execution_count": 14,
   "metadata": {},
   "outputs": [
    {
     "name": "stdout",
     "output_type": "stream",
     "text": [
      "{'target': 0.7710648686352012, 'params': {'C': 0.25688361521234426, 'gamma': 0.9767233804174675}}\n"
     ]
    }
   ],
   "source": [
    "def svm_cv(C, gamma):\n",
    "    val = cross_val_score(\n",
    "        svm.SVC(C=C,\n",
    "                gamma=gamma),\n",
    "        x, y, scoring='f1', cv=5\n",
    "    ).mean()\n",
    "    return val\n",
    "\n",
    "svm_bds = {'C': (0.01, 1),\n",
    "        'gamma': (0.01, 1),}\n",
    "\n",
    "svm_optimizer = BayesianOptimization(\n",
    "    f=svm_cv,  \n",
    "    pbounds=svm_bds,  \n",
    "    verbose=0,\n",
    ")\n",
    "svm_optimizer.maximize(init_points=5,n_iter=20)\n",
    "print(svm_optimizer.max)"
   ]
  },
  {
   "cell_type": "code",
   "execution_count": 16,
   "metadata": {},
   "outputs": [
    {
     "name": "stdout",
     "output_type": "stream",
     "text": [
      "{'target': 0.9528806896671899, 'params': {'leaf_size': 42.93628708455757, 'n_neighbors': 9.753994913792326, 'p': 1.9906675662330198}}\n"
     ]
    }
   ],
   "source": [
    "from sklearn.neighbors import KNeighborsClassifier as knn\n",
    "def knn_cv(n_neighbors, leaf_size,p):\n",
    "    val = cross_val_score(\n",
    "        knn(n_neighbors=int(n_neighbors),\n",
    "                leaf_size=int(leaf_size),\n",
    "                p=int(p)),\n",
    "        x, y, scoring='f1', cv=5\n",
    "    ).mean()\n",
    "    return val\n",
    "\n",
    "knn_bds = {'n_neighbors': (3, 20),\n",
    "           'leaf_size':(20,100),\n",
    "           'p': (1, 2),}\n",
    "\n",
    "knn_optimizer = BayesianOptimization(\n",
    "    f=knn_cv,  \n",
    "    pbounds=knn_bds,  \n",
    "    verbose=0,\n",
    ")\n",
    "knn_optimizer.maximize(init_points=5,n_iter=20)\n",
    "print(knn_optimizer.max)"
   ]
  },
  {
   "cell_type": "code",
   "execution_count": 18,
   "metadata": {},
   "outputs": [
    {
     "name": "stdout",
     "output_type": "stream",
     "text": [
      "{'target': 0.9628438731619404, 'params': {'C': 0.9834668290359118}}\n"
     ]
    }
   ],
   "source": [
    "from sklearn.linear_model import LogisticRegression as lr\n",
    "def lr_cv(C):\n",
    "    val = cross_val_score(\n",
    "        lr(C=C),\n",
    "        x, y, scoring='f1', cv=5\n",
    "    ).mean()\n",
    "    return val\n",
    "\n",
    "lr_bds = {'C': (0.01, 1)}\n",
    "\n",
    "lr_optimizer = BayesianOptimization(\n",
    "    f=lr_cv,  \n",
    "    pbounds=lr_bds,  \n",
    "    verbose=0,\n",
    ")\n",
    "lr_optimizer.maximize(init_points=5,n_iter=20)\n",
    "print(lr_optimizer.max)"
   ]
  },
  {
   "cell_type": "code",
   "execution_count": null,
   "metadata": {},
   "outputs": [],
   "source": []
  }
 ],
 "metadata": {
  "kernelspec": {
   "display_name": "Python 3",
   "language": "python",
   "name": "python3"
  },
  "language_info": {
   "codemirror_mode": {
    "name": "ipython",
    "version": 3
   },
   "file_extension": ".py",
   "mimetype": "text/x-python",
   "name": "python",
   "nbconvert_exporter": "python",
   "pygments_lexer": "ipython3",
   "version": "3.7.3"
  }
 },
 "nbformat": 4,
 "nbformat_minor": 2
}
